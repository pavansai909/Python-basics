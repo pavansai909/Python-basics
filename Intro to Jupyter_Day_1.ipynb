{
 "cells": [
  {
   "cell_type": "code",
   "execution_count": 2,
   "id": "218c052f",
   "metadata": {},
   "outputs": [
    {
     "name": "stdout",
     "output_type": "stream",
     "text": [
      "Welcome\n"
     ]
    }
   ],
   "source": [
    "print(\"Welcome\")"
   ]
  },
  {
   "cell_type": "code",
   "execution_count": 28,
   "id": "ae6041d3",
   "metadata": {},
   "outputs": [],
   "source": [
    "# if there is no cell below, use shift+enter\n",
    "# if there is cell below , use ALT +Enter"
   ]
  },
  {
   "cell_type": "code",
   "execution_count": 3,
   "id": "17052999",
   "metadata": {},
   "outputs": [
    {
     "data": {
      "text/plain": [
       "9"
      ]
     },
     "execution_count": 3,
     "metadata": {},
     "output_type": "execute_result"
    }
   ],
   "source": [
    "a = 5\n",
    "b = 4\n",
    "a + b"
   ]
  },
  {
   "cell_type": "code",
   "execution_count": null,
   "id": "630a5e1c",
   "metadata": {},
   "outputs": [],
   "source": [
    "# code mode is for coding - green bar and blinking cell to write code\n",
    "# command mode is for shortcuts - press escape and cursor turns to blue"
   ]
  },
  {
   "cell_type": "code",
   "execution_count": 4,
   "id": "a9b2d755",
   "metadata": {},
   "outputs": [],
   "source": [
    "# escape - command mode, Enter - code mode\n",
    "# in command mode, press a to insert cell above and b to insert cell below"
   ]
  },
  {
   "cell_type": "code",
   "execution_count": null,
   "id": "f7432ccb",
   "metadata": {},
   "outputs": [],
   "source": [
    "#esc + a - above cell, esc + b - cell below"
   ]
  },
  {
   "cell_type": "code",
   "execution_count": null,
   "id": "24390f31",
   "metadata": {},
   "outputs": [],
   "source": [
    "#esc + m - markdown"
   ]
  },
  {
   "cell_type": "markdown",
   "id": "a2af88f3",
   "metadata": {},
   "source": [
    "## This is first basic python file\n",
    "##### This is italic font"
   ]
  },
  {
   "cell_type": "code",
   "execution_count": null,
   "id": "3c019c44",
   "metadata": {},
   "outputs": [],
   "source": [
    "# in markdown, five ashes will give italic fonts"
   ]
  },
  {
   "cell_type": "markdown",
   "id": "2a9a3623",
   "metadata": {},
   "source": [
    "__Hi I am bold__\n",
    "**How are you**\n",
    "#### above line is reflected in one line and to make it in second line we use a break\n"
   ]
  },
  {
   "cell_type": "markdown",
   "id": "2fbd0ec3",
   "metadata": {},
   "source": [
    "__Hi I am bold__ <br>\n",
    "**How are you**"
   ]
  },
  {
   "cell_type": "code",
   "execution_count": null,
   "id": "2afe2f28",
   "metadata": {},
   "outputs": [],
   "source": [
    "# esc + y is markdown mode to code mode"
   ]
  },
  {
   "cell_type": "markdown",
   "id": "3d3c1c73",
   "metadata": {},
   "source": [
    "`Highlight my text` This symbol is shared by tilda symbol beside 1 in keyboard"
   ]
  },
  {
   "cell_type": "code",
   "execution_count": 9,
   "id": "f2f07987",
   "metadata": {},
   "outputs": [],
   "source": [
    "# to delete a cell - use esc + x  /  use  esc + dd"
   ]
  },
  {
   "cell_type": "markdown",
   "id": "4692816e",
   "metadata": {},
   "source": [
    "> Hi\n",
    ">> Hello\n",
    ">>> Three Inddentations"
   ]
  },
  {
   "cell_type": "markdown",
   "id": "f7f9a586",
   "metadata": {},
   "source": [
    "- I am good\n",
    " - I am fine"
   ]
  },
  {
   "cell_type": "markdown",
   "id": "2076ccac",
   "metadata": {},
   "source": [
    "- <font color = 'blue' > I am blue color </font>"
   ]
  },
  {
   "cell_type": "code",
   "execution_count": null,
   "id": "bdab59d1",
   "metadata": {},
   "outputs": [],
   "source": [
    "## split the cells - ctrl + shift+ minus -- click on seperation part and press ctrlshiftminus"
   ]
  },
  {
   "cell_type": "code",
   "execution_count": null,
   "id": "25ef898d",
   "metadata": {},
   "outputs": [],
   "source": [
    "a=1"
   ]
  },
  {
   "cell_type": "code",
   "execution_count": 14,
   "id": "8350c690",
   "metadata": {},
   "outputs": [],
   "source": [
    "b=2"
   ]
  },
  {
   "cell_type": "code",
   "execution_count": 19,
   "id": "9732b4ca",
   "metadata": {},
   "outputs": [],
   "source": [
    "# to merge cells, we have to select multiple cells\n",
    "# to select we use shift and down arrow in command mode\n",
    "# to merge shift + m "
   ]
  },
  {
   "cell_type": "code",
   "execution_count": 20,
   "id": "f1a6a17a",
   "metadata": {},
   "outputs": [
    {
     "data": {
      "text/plain": [
       "2"
      ]
     },
     "execution_count": 20,
     "metadata": {},
     "output_type": "execute_result"
    }
   ],
   "source": [
    "a\n",
    "\n",
    "b"
   ]
  },
  {
   "cell_type": "code",
   "execution_count": 22,
   "id": "30907c46",
   "metadata": {},
   "outputs": [],
   "source": [
    "# in command mode, space - scrolled down\n",
    "# shift + space scrolls up"
   ]
  },
  {
   "cell_type": "code",
   "execution_count": 29,
   "id": "528c9145",
   "metadata": {
    "collapsed": true
   },
   "outputs": [
    {
     "data": {
      "text/plain": [
       "<AxesSubplot:>"
      ]
     },
     "execution_count": 29,
     "metadata": {},
     "output_type": "execute_result"
    },
    {
     "data": {
      "image/png": "[encoded data removed]",
      "text/plain": [
       "<Figure size 432x288 with 1 Axes>"
      ]
     },
     "metadata": {
      "needs_background": "light"
     },
     "output_type": "display_data"
    }
   ],
   "source": [
    "import seaborn as sns\n",
    "sns.barplot(x = ['maths','sci','english'],y=[75,85,100])"
   ]
  },
  {
   "cell_type": "code",
   "execution_count": 30,
   "id": "0d0ae6bb",
   "metadata": {},
   "outputs": [],
   "source": [
    "#in command mode, o makes output collapse /open output- esc + o"
   ]
  },
  {
   "cell_type": "code",
   "execution_count": null,
   "id": "fdb4177b",
   "metadata": {},
   "outputs": [],
   "source": []
  }
 ],
 "metadata": {
  "kernelspec": {
   "display_name": "Python 3 (ipykernel)",
   "language": "python",
   "name": "python3"
  },
  "language_info": {
   "codemirror_mode": {
    "name": "ipython",
    "version": 3
   },
   "file_extension": ".py",
   "mimetype": "text/x-python",
   "name": "python",
   "nbconvert_exporter": "python",
   "pygments_lexer": "ipython3",
   "version": "3.9.7"
  }
 },
 "nbformat": 4,
 "nbformat_minor": 5
}
